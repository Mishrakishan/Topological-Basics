{
  "nbformat": 4,
  "nbformat_minor": 0,
  "metadata": {
    "colab": {
      "provenance": [],
      "authorship_tag": "ABX9TyOPEhBWt+NWan522qsRSgR6"
    },
    "kernelspec": {
      "name": "python3",
      "display_name": "Python 3"
    },
    "language_info": {
      "name": "python"
    }
  },
  "cells": [
    {
      "cell_type": "markdown",
      "source": [
        "#Toric Code on Quntum Computer"
      ],
      "metadata": {
        "id": "9u-QIkA1Nku1"
      }
    },
    {
      "cell_type": "code",
      "source": [
        "!pip install pennylane"
      ],
      "metadata": {
        "colab": {
          "base_uri": "https://localhost:8080/"
        },
        "id": "XHrsqFDBOgHm",
        "outputId": "88d5f1a1-4577-405e-f2d3-470ade4aa554"
      },
      "execution_count": null,
      "outputs": [
        {
          "output_type": "stream",
          "name": "stdout",
          "text": [
            "Requirement already satisfied: pennylane in /usr/local/lib/python3.11/dist-packages (0.40.0)\n",
            "Requirement already satisfied: numpy<2.1 in /usr/local/lib/python3.11/dist-packages (from pennylane) (1.26.4)\n",
            "Requirement already satisfied: scipy in /usr/local/lib/python3.11/dist-packages (from pennylane) (1.13.1)\n",
            "Requirement already satisfied: networkx in /usr/local/lib/python3.11/dist-packages (from pennylane) (3.4.2)\n",
            "Requirement already satisfied: rustworkx>=0.14.0 in /usr/local/lib/python3.11/dist-packages (from pennylane) (0.16.0)\n",
            "Requirement already satisfied: autograd in /usr/local/lib/python3.11/dist-packages (from pennylane) (1.7.0)\n",
            "Requirement already satisfied: tomlkit in /usr/local/lib/python3.11/dist-packages (from pennylane) (0.13.2)\n",
            "Requirement already satisfied: appdirs in /usr/local/lib/python3.11/dist-packages (from pennylane) (1.4.4)\n",
            "Requirement already satisfied: autoray>=0.6.11 in /usr/local/lib/python3.11/dist-packages (from pennylane) (0.7.0)\n",
            "Requirement already satisfied: cachetools in /usr/local/lib/python3.11/dist-packages (from pennylane) (5.5.1)\n",
            "Requirement already satisfied: pennylane-lightning>=0.40 in /usr/local/lib/python3.11/dist-packages (from pennylane) (0.40.0)\n",
            "Requirement already satisfied: requests in /usr/local/lib/python3.11/dist-packages (from pennylane) (2.32.3)\n",
            "Requirement already satisfied: typing-extensions in /usr/local/lib/python3.11/dist-packages (from pennylane) (4.12.2)\n",
            "Requirement already satisfied: packaging in /usr/local/lib/python3.11/dist-packages (from pennylane) (24.2)\n",
            "Requirement already satisfied: diastatic-malt in /usr/local/lib/python3.11/dist-packages (from pennylane) (2.15.2)\n",
            "Requirement already satisfied: scipy-openblas32>=0.3.26 in /usr/local/lib/python3.11/dist-packages (from pennylane-lightning>=0.40->pennylane) (0.3.29.0.0)\n",
            "Requirement already satisfied: astunparse in /usr/local/lib/python3.11/dist-packages (from diastatic-malt->pennylane) (1.6.3)\n",
            "Requirement already satisfied: gast in /usr/local/lib/python3.11/dist-packages (from diastatic-malt->pennylane) (0.6.0)\n",
            "Requirement already satisfied: termcolor in /usr/local/lib/python3.11/dist-packages (from diastatic-malt->pennylane) (2.5.0)\n",
            "Requirement already satisfied: charset-normalizer<4,>=2 in /usr/local/lib/python3.11/dist-packages (from requests->pennylane) (3.4.1)\n",
            "Requirement already satisfied: idna<4,>=2.5 in /usr/local/lib/python3.11/dist-packages (from requests->pennylane) (3.10)\n",
            "Requirement already satisfied: urllib3<3,>=1.21.1 in /usr/local/lib/python3.11/dist-packages (from requests->pennylane) (2.3.0)\n",
            "Requirement already satisfied: certifi>=2017.4.17 in /usr/local/lib/python3.11/dist-packages (from requests->pennylane) (2025.1.31)\n",
            "Requirement already satisfied: wheel<1.0,>=0.23.0 in /usr/local/lib/python3.11/dist-packages (from astunparse->diastatic-malt->pennylane) (0.45.1)\n",
            "Requirement already satisfied: six<2.0,>=1.6.1 in /usr/local/lib/python3.11/dist-packages (from astunparse->diastatic-malt->pennylane) (1.17.0)\n"
          ]
        }
      ]
    },
    {
      "cell_type": "markdown",
      "source": [
        "# Introduction\n",
        "\n",
        "The *toric code model* is a treasure trove of interesting physics and\n",
        "mathematics. The model sparked the development of the error-correcting\n",
        "surface codes, an essential category of error correction models. But why\n",
        "is the model so useful for error correction?\n",
        "\n",
        "We delve into mathematics and condensed matter physics to answer that\n",
        "very question. Viewing the model as a description of spins in an exotic\n",
        "magnet allows us to start analyzing the model as a material. What kind\n",
        "of material is it? The toric code is an example of a topological state\n",
        "of matter.\n",
        "\n",
        "A state of matter, or phase, cannot become a different phase without\n",
        "some discontinuity in the physical properties as coefficients in the\n",
        "Hamiltonian change. This discontinuity may exist in an arbitrary order\n",
        "derivative or non-local observable. For example, ice cannot become water\n",
        "without a discontinuity in density as the temperature changes. The\n",
        "ground state of a **topological** state of matter cannot smoothly deform\n",
        "to a non-entangled state without a phase transition. Entanglement, and\n",
        "more critically *long-range* entanglement, is a key hallmark of a\n",
        "topological state of matter.\n",
        "\n",
        "Local measurements cannot detect topological states of matter. We have\n",
        "to consider the entire system to determine a topological phase. To\n",
        "better consider this type of property, consider the parity of the number\n",
        "of dancers on a dance floor. Does everyone have a partner, or is there\n",
        "an odd person out? To measure that, we have to look at the entire\n",
        "system.\n",
        "\n",
        "Topology is the study of global properties that are preserved under\n",
        "continuous deformations. For example, a coffee cup is equivalent to a\n",
        "donut because they both have a single hole. More technically, they both\n",
        "have an [Euler\n",
        "characteristic](https://en.wikipedia.org/wiki/Euler_characteristic) of\n",
        "zero. When we zoom to a local patch, both a sphere and a torus look the\n",
        "same. Only by considering the object as a whole can you detect the\n",
        "single hole.\n",
        "\n",
        "<figure>\n",
        "<img src=\"../_static/demonstration_assets/toric_code/torus_to_cup.png\"\n",
        "class=\"align-center\" style=\"width:70.0%\"\n",
        "alt=\"../_static/demonstration_assets/toric_code/torus_to_cup.png\" />\n",
        "<figcaption>A donut can be smoothly deformed into a mug.</figcaption>\n",
        "</figure>\n",
        "\n",
        "In this demo, we will look at the degenerate ground state and the\n",
        "excitations of the toric code model. The toric code was initially\n",
        "proposed in \"Fault-tolerant quantum computation by anyons\" by Kitaev.\n",
        "This demo was inspired by \"Realizing topologically ordered states on a\n",
        "quantum processor\" by K. J. Satzinger et al. For further reading, I\n",
        "recommend \"Quantum Spin Liquids\" by Lucile Savary and Leon Balents and\n",
        "\\\"A Pedagogical Overview on 2D and 3D Toric Codes and the Origin of\n",
        "their Topological Orders\\\"."
      ],
      "metadata": {
        "id": "VhGZ7I9lssxF"
      }
    },
    {
      "cell_type": "markdown",
      "source": [
        "# The Model\n",
        "\n",
        "What is the source of all this fascinating physics? The Hamiltonian is:\n",
        "\n",
        "$$\\mathcal{H} = -\\sum_s S_s - \\sum_p P_p,$$\n",
        "\n",
        "where\n",
        "\n",
        "$$S_s = \\prod_{i \\in s} Z_i \\quad P_p = \\prod_{j \\in p} X_j.$$\n",
        "\n",
        "In the literature, the $S_s$ terms are called the \"star\" operators, and\n",
        "the $P_p$ terms are called the \"plaquette\" operators. Each star $s$ and\n",
        "plaquette $p$ is a group of 4 sites on a square lattice. You can compare\n",
        "this model to something like the [Heisenberg\n",
        "model](https://en.wikipedia.org/wiki/Quantum_Heisenberg_model) used to\n",
        "describe spins interacting magnetically in a material.\n",
        "\n",
        "In the most common formulation of the model, sites live on the edges of\n",
        "a square lattice. In this formulation, the \"plaquette\" operators are\n",
        "products of Pauli X operators on all the sites in a square, and the\n",
        "\\\"star\\\" operators are products of Pauli Z operators on all the sites\n",
        "bordering a vertex.\n",
        "\n",
        "Instead, we can view the model as a checkerboard of alternating square\n",
        "types. In this formulation, all sites $i$ and $j$ are the vertices of a\n",
        "square lattice. Each square is a group of four sites, and adjacent\n",
        "squares alternate between the two types of groups. Since the groups on\n",
        "this checkerboard no longer look like stars and plaquettes, we will call\n",
        "them the \"Z Group\" and \"X Group\" operators in this tutorial.\n",
        "\n",
        "<figure>\n",
        "<img\n",
        "src=\"../_static/demonstration_assets/toric_code/stars_plaquettes2.png\"\n",
        "class=\"align-center\" style=\"width:70.0%\"\n",
        "alt=\"../_static/demonstration_assets/toric_code/stars_plaquettes2.png\" />\n",
        "<figcaption>On the left, sites are grouped into stars around vertices\n",
        "and plaquettes on the faces. On the right, we view the lattice as a\n",
        "checkerboard of alternating types of groups.</figcaption>\n",
        "</figure>\n",
        "\n",
        "We will be embedding the lattice on a torus via periodic boundary\n",
        "conditions. Periodic boundary conditions basically \"glue\" the bottom of\n",
        "the lattice to the top of the lattice and the left to the right.\n",
        "\n",
        "Modular arithmetic accomplishes this matching. Any site at `(x,y)` is\n",
        "the same as a site at `(x+width, y+height)`.\n",
        "\n",
        "<figure>\n",
        "<img\n",
        "src=\"../_static/demonstration_assets/toric_code/converting_to_torus.png\"\n",
        "class=\"align-center\" style=\"width:70.0%\"\n",
        "alt=\"../_static/demonstration_assets/toric_code/converting_to_torus.png\" />\n",
        "<figcaption>By matching up the edges with periodic boundary conditions,\n",
        "we turn a square grid into a torus.</figcaption>\n",
        "</figure>\n"
      ],
      "metadata": {
        "id": "sIup-FHoTMkm"
      }
    },
    {
      "cell_type": "markdown",
      "source": [
        "On to some practical coding! First, let\\'s define the sites on a\n",
        "$4\\times 6$ lattice."
      ],
      "metadata": {
        "id": "PrM9D3qXTjU9"
      }
    },
    {
      "cell_type": "code",
      "source": [
        "import pennylane as qml\n",
        "import matplotlib.pyplot as plt\n",
        "from matplotlib.patches import Polygon, Patch\n",
        "from itertools import product\n",
        "from dataclasses import dataclass\n",
        "\n",
        "import numpy as np\n",
        "\n",
        "np.set_printoptions(suppress=True)\n",
        "\n",
        "height = 4\n",
        "width = 6\n",
        "\n",
        "all_sites = [(i, j) for i, j in product(range(width), range(height))]"
      ],
      "metadata": {
        "id": "tZnwzYnBNm-W"
      },
      "execution_count": null,
      "outputs": []
    },
    {
      "cell_type": "markdown",
      "source": [
        "We would like for our wire labels to match the sites. To do this, we\n",
        "will be using an [Immutable Data\n",
        "Class](https://realpython.com/python-data-classes/#immutable-data-classes)\n",
        ". PennyLane allows wire labels to be any **hashable** object, but\n",
        "iterable wire labels are currently not supported. Therefore we use a\n",
        "frozen dataclass to represent individual wires by a row and column\n",
        "position."
      ],
      "metadata": {
        "id": "PHvavxLNUCPx"
      }
    },
    {
      "cell_type": "code",
      "source": [
        "@dataclass(frozen=True)\n",
        "class Wire:\n",
        "    i: int\n",
        "    j: int\n",
        "\n",
        "example_wire = Wire(1, 4)\n",
        "print(\"Example wire: \", example_wire)\n",
        "print(\"At coordinates: \", example_wire.i, example_wire.j)"
      ],
      "metadata": {
        "colab": {
          "base_uri": "https://localhost:8080/"
        },
        "id": "F9P6lNMfNqjP",
        "outputId": "e3330675-291d-40e4-eb34-7a2e0c426b2b"
      },
      "execution_count": null,
      "outputs": [
        {
          "output_type": "stream",
          "name": "stdout",
          "text": [
            "Example wire:  Wire(i=1, j=4)\n",
            "At coordinates:  1 4\n"
          ]
        }
      ]
    },
    {
      "cell_type": "markdown",
      "source": [
        "# Setting up Operators\n",
        "\n",
        "For each type of group operator (X and Z), we will have two different\n",
        "lists: the \"sites\" and the \"ops\". The \"sites\" are tuples and will\n",
        "include virtual sites off the edge of the lattice that match up with\n",
        "locations on the other side. We will use the `zgroup_sites` and `xgroup_sites`\n",
        "lists to help us view the measurements of the corresponding operators.\n",
        "\n",
        "The \\\"ops\\\" list will contain the tensor observables. We will later take\n",
        "the expectation value of each tensor."
      ],
      "metadata": {
        "id": "3LXHEOLDZQBK"
      }
    },
    {
      "cell_type": "code",
      "source": [
        "mod = lambda s: Wire(s[0] % width, s[1] % height)\n",
        "\n",
        "zgroup_sites = []  # list of sites in each group\n",
        "zgroup_ops = []  # list of operators for each group\n",
        "\n",
        "for x, y in product(range(width // 2), range(height)):\n",
        "\n",
        "    x0 = 2 * x + (y + 1) % 2 # x starting coordinate\n",
        "\n",
        "    sites = [(x0, y), (x0 + 1, y), (x0 + 1, y + 1), (x0, y + 1)]\n",
        "\n",
        "    op = qml.prod(*(qml.PauliZ(mod(s)) for s in sites))\n",
        "\n",
        "    zgroup_sites.append(sites)\n",
        "    zgroup_ops.append(op)\n",
        "\n",
        "print(\"First set of sites: \", zgroup_sites[3])\n",
        "print(\"First operator: \", zgroup_ops[3])"
      ],
      "metadata": {
        "colab": {
          "base_uri": "https://localhost:8080/"
        },
        "id": "zOfvZ-dRNtda",
        "outputId": "b741b1c3-d984-49b1-d4da-e0e63aec724e"
      },
      "execution_count": null,
      "outputs": [
        {
          "output_type": "stream",
          "name": "stdout",
          "text": [
            "First set of sites:  [(0, 3), (1, 3), (1, 4), (0, 4)]\n",
            "First operator:  Z(Wire(i=0, j=3)) @ Z(Wire(i=1, j=3)) @ Z(Wire(i=1, j=0)) @ Z(Wire(i=0, j=0))\n"
          ]
        }
      ]
    },
    {
      "cell_type": "code",
      "source": [
        "xgroup_sites = []\n",
        "xgroup_ops = []\n",
        "for x, y in product(range(width // 2), range(height)):\n",
        "    x0 = 2 * x + y % 2 # lower x coordinate\n",
        "\n",
        "    sites = [(x0 + 1, y + 1), (x0, y + 1), (x0, y), (x0 + 1, y)]\n",
        "\n",
        "    if x == 2 and y == 1:  # change order for state prep later\n",
        "        sites = sites[1:] + sites[0:1]\n",
        "\n",
        "    op = qml.prod(*(qml.PauliX(mod(s)) for s in sites))\n",
        "\n",
        "    xgroup_sites.append(sites)\n",
        "    xgroup_ops.append(op)\n",
        "\n",
        "print(\"First set of sites: \", xgroup_sites[1])\n",
        "print(\"First operator: \", xgroup_ops[1])"
      ],
      "metadata": {
        "colab": {
          "base_uri": "https://localhost:8080/"
        },
        "id": "0brCO8ZENwg8",
        "outputId": "c2fdc0a3-c207-4bff-adbd-3207c1db0b80"
      },
      "execution_count": null,
      "outputs": [
        {
          "output_type": "stream",
          "name": "stdout",
          "text": [
            "First set of sites:  [(2, 2), (1, 2), (1, 1), (2, 1)]\n",
            "First operator:  X(Wire(i=2, j=2)) @ X(Wire(i=1, j=2)) @ X(Wire(i=1, j=1)) @ X(Wire(i=2, j=1))\n"
          ]
        }
      ]
    },
    {
      "cell_type": "markdown",
      "source": [
        "How can we best visualize these groups of four sites?\n",
        "The dotted horizontal lines and dashed vertical lines denote\n",
        "where we glue our boundaries together."
      ],
      "metadata": {
        "id": "IN7TfSS5Za3f"
      }
    },
    {
      "cell_type": "code",
      "source": [
        "def misc_plot_formatting(fig, ax):\n",
        "    plt.hlines([-0.5, height - 0.5], -0.5, width - 0.5, linestyle=\"dotted\", color=\"black\")\n",
        "    plt.vlines([-0.5, width - 0.5], -0.5, height - 0.5, linestyle=\"dashed\", color=\"black\")\n",
        "    plt.xticks(range(width + 1), [str(i % width) for i in range(width + 1)])\n",
        "    plt.yticks(range(height + 1), [str(i % height) for i in range(height + 1)])\n",
        "\n",
        "    for direction in [\"top\", \"right\", \"bottom\", \"left\"]:\n",
        "        ax.spines[direction].set_visible(False)\n",
        "\n",
        "    return fig, ax\n",
        "\n",
        "\n",
        "fig, ax = plt.subplots()\n",
        "fig, ax = misc_plot_formatting(fig, ax)\n",
        "\n",
        "for group in xgroup_sites:\n",
        "    x_patch = ax.add_patch(Polygon(group, color=\"lavender\", zorder=0))\n",
        "\n",
        "for group in zgroup_sites:\n",
        "    z_patch = ax.add_patch(Polygon(group, color=\"mistyrose\", zorder=0))\n",
        "\n",
        "plt_sites = ax.scatter(*zip(*all_sites))\n",
        "\n",
        "plt.legend([x_patch, z_patch, plt_sites], [\"XGroup\", \"ZGroup\", \"Site\"], loc=\"upper left\")\n",
        "\n",
        "plt.show()"
      ],
      "metadata": {
        "colab": {
          "base_uri": "https://localhost:8080/",
          "height": 430
        },
        "id": "Wx9-mevnNytN",
        "outputId": "d7cb6802-baeb-41ba-d775-c83f7820b9d0"
      },
      "execution_count": null,
      "outputs": [
        {
          "output_type": "display_data",
          "data": {
            "text/plain": [
              "<Figure size 640x480 with 1 Axes>"
            ],
            "image/png": "[encoded data removed]"
          },
          "metadata": {}
        }
      ]
    },
    {
      "cell_type": "markdown",
      "source": [
        "# The Ground State\n",
        "\n",
        "While individual X and Z operators do not commute with each other, the X\n",
        "Group and Z Group operators do:\n",
        "\n",
        "$$[S_s, P_p] = 0.$$\n",
        "\n",
        "Since they commute, the wavefunction can be an eigenstate of each group\n",
        "operator independently. To minimize the energy of the Hamiltonian on the\n",
        "system as a whole, we can minimize the contribution of each group\n",
        "operator. Due to the negative coefficients in the Hamiltonian, we need\n",
        "to maximize the expectation value of each operator. The maximum possible\n",
        "expectation value for each operator is $+1.$ We can turn this into a\n",
        "constraint on our ground state:\n",
        "\n",
        "$$S_s |G \\rangle = +1 |G \\rangle \\qquad \\qquad P_p | G \\rangle = +1 |G\\rangle.$$\n",
        "\n",
        "The wavefunction\n",
        "\n",
        "$$| G \\rangle =  \\prod_{p} \\frac{\\mathbb{I} + P_p}{\\sqrt{2}} |00\\dots 0\\rangle = \\prod_{p} U_p |00\\dots 0 \\rangle,$$\n",
        "\n",
        "where $P_p$ (plaquette) denotes an X Group operator, is such a state.\n",
        "\n",
        "$|G \\rangle$ contains a product of unitaries $U_p.$ If we can figure out\n",
        "how to apply a single $U_p$ using a quantum computer\\'s operations, we\n",
        "can apply that decomposition for every $p$ in the product.\n",
        "\n",
        "To better understand how to decompose $U_p,$ let's write it concretely\n",
        "for a single group of four qubits:\n",
        "\n",
        "$$U |0000 \\rangle =\n",
        "\\frac{\\left(\\mathbb{I} + X_1 X_2 X_3 X_4 \\right)}{\\sqrt{2}} |0000 \\rangle\n",
        "= \\frac{1}{\\sqrt{2}} \\left( |0000\\rangle + |1111\\rangle \\right).$$\n",
        "\n",
        "This [generalized GHZ\n",
        "state](https://en.wikipedia.org/wiki/Greenberger–Horne–Zeilinger_state)\n",
        "can be prepared with a Hadamard and 3 CNOT gates:\n",
        "\n",
        "![](../_static/demonstration_assets/toric_code/generalized_ghz_draw.png){.align-center\n",
        "width=\"50.0%\"}\n",
        "\n",
        "This decomposition for $U_p$ holds only when the initial Hadamard qubit\n",
        "begins in the $|0\\rangle$ state, so we need to be careful in the choice\n",
        "of the Hadamard\\'s qubit. This restriction is why we rotated the order\n",
        "for a single X Group on the right border earlier.\n",
        "\n",
        "We will also not need to prepare the final X Group that contains the\n",
        "four edges of the lattice.\n",
        "\n",
        "Now let's actually put these together into a circuit!"
      ],
      "metadata": {
        "id": "gzMdnfO-bQfU"
      }
    },
    {
      "cell_type": "code",
      "source": [
        "dev = qml.device(\"lightning.qubit\", wires=[Wire(*s) for s in all_sites])\n",
        "\n",
        "def state_prep():\n",
        "    for op in xgroup_ops[0:-1]:\n",
        "        qml.Hadamard(op.wires[0])\n",
        "        for w in op.wires[1:]:\n",
        "            qml.CNOT(wires=[op.wires[0], w])\n",
        "\n",
        "@qml.qnode(dev, diff_method=None)\n",
        "def circuit():\n",
        "    state_prep()\n",
        "    return [qml.expval(op) for op in xgroup_ops + zgroup_ops]"
      ],
      "metadata": {
        "id": "7RU2Yea8N2aZ"
      },
      "execution_count": null,
      "outputs": []
    },
    {
      "cell_type": "markdown",
      "source": [
        "From this QNode, we can calculate the group operators\\' expectation\n",
        "values and the system\\'s total energy."
      ],
      "metadata": {
        "id": "FqY_EGPDbzDx"
      }
    },
    {
      "cell_type": "code",
      "source": [
        "n_xgroups = len(xgroup_ops)\n",
        "separate_expvals = lambda expvals: (expvals[:n_xgroups], expvals[n_xgroups:])\n",
        "\n",
        "xgroup_expvals, zgroup_expvals = separate_expvals(circuit())\n",
        "\n",
        "E0 = -sum(xgroup_expvals) - sum(zgroup_expvals)\n",
        "\n",
        "print(\"X Group expectation values\", [np.round(val) for val in xgroup_expvals])\n",
        "print(\"Z Group expectation values\", [np.round(val) for val in zgroup_expvals])\n",
        "print(\"Total energy: \", E0)"
      ],
      "metadata": {
        "colab": {
          "base_uri": "https://localhost:8080/"
        },
        "id": "36s7LfVMN4c4",
        "outputId": "dcd34017-903c-40c1-d58e-69628d5e4164"
      },
      "execution_count": null,
      "outputs": [
        {
          "output_type": "stream",
          "name": "stdout",
          "text": [
            "X Group expectation values [1.0, 1.0, 1.0, 1.0, 1.0, 1.0, 1.0, 1.0, 1.0, 1.0, 1.0, 1.0]\n",
            "Z Group expectation values [1.0, 1.0, 1.0, 1.0, 1.0, 1.0, 1.0, 1.0, 1.0, 1.0, 1.0, 1.0]\n",
            "Total energy:  -23.999999999999996\n"
          ]
        }
      ]
    },
    {
      "cell_type": "markdown",
      "source": [
        "# Excitations\n",
        "\n",
        "Quasiparticles allow physicists to describe complex systems as\n",
        "interacting particles in a vacuum. Examples of quasiparticles include\n",
        "electrons and holes in semiconductors, phonons, and magnons.\n",
        "\n",
        "Imagine trying to describe the traffic on the road. We could either\n",
        "explicitly enumerate the location of each vehicle or list the positions\n",
        "and severities of traffic jams.\n",
        "\n",
        "The first option provides complete information about the system but is\n",
        "much more challenging to analyze. For most purposes, we can work with\n",
        "information about how the traffic deviates from a baseline. In\n",
        "semiconductors, we don't write out the wave function for every single\n",
        "electron. We instead use electrons and holes. Neither quasiparticle\n",
        "electrons nor holes are fundamental particles like an electron or\n",
        "positron in a vacuum. Instead, they are useful descriptions of how the\n",
        "wave function differs from its ground state.\n",
        "\n",
        "While the electrons and holes of a metal behave just like electrons and\n",
        "positrons in a vacuum, some condensed matter systems contain\n",
        "quasiparticles that cannot or do not exist as fundamental particles. The\n",
        "excitations of the toric code are one such example. To find these\n",
        "quasiparticles, we look at states that are *almost* the ground state,\n",
        "such as the ground state with a single operator applied to it.\n",
        "\n",
        "Suppose we apply a perturbation to the ground state in the form of a\n",
        "single X gate at location $i$ :\n",
        "\n",
        "$$| \\phi \\rangle = X_i | G \\rangle.$$\n",
        "\n",
        "Two Z group operators $S_s$ contain individual Z operators at that same\n",
        "site $i.$ The noise term $X_i$ will anti-commute with both of these\n",
        "group operators:\n",
        "\n",
        "$$S_s X_i = \\left( Z_i Z_a Z_b Z_c \\right) X_i = - X_i S_s.$$\n",
        "\n",
        "Using this relation, we can determine the expectation value of the Z\n",
        "group operators with the altered state:\n",
        "\n",
        "$$S_s |\\phi\\rangle = S_s X_i |G\\rangle = - X_i S_s |G\\rangle = - X_i |G\\rangle = - |\\phi\\rangle.$$\n",
        "\n",
        "Thus,\n",
        "\n",
        "$$\\langle \\phi | S_s | \\phi \\rangle = -1.$$\n",
        "\n",
        "$S_s$ now has an expectation value of $-1.$\n",
        "\n",
        "Applying a single X operator noise term changes the expectation value of\n",
        "*two* Z group operators.\n",
        "\n",
        "This analysis repeats for the effect of a Z operator on the X Group\n",
        "measurement. A single Z operator noise term changes the expectation\n",
        "values of *two* X group operators.\n",
        "\n",
        "Each group with a negative expectation value is considered an\n",
        "excitation. In the literature, you will often see a Z Group excitation\n",
        "$\\langle S_s \\rangle = -1$ called an \"electric\" $e$ excitation and an X\n",
        "Group excitation $\\langle P_p \\rangle = -1$ called a \"magnetic\" $m$\n",
        "excitation. You may also see the inclusion of an identity $\\mathbb{I}$\n",
        "particle for the ground state and the combination particle $\\Psi$\n",
        "consisting of a single $e$ and a single $m$ excitation.\n",
        "\n",
        "Let's create a QNode where we can apply these perturbations:"
      ],
      "metadata": {
        "id": "Iw6C9dh4qQLv"
      }
    },
    {
      "cell_type": "code",
      "source": [
        "@qml.qnode(dev, diff_method=None)\n",
        "def excitations(x_sites, z_sites):\n",
        "    state_prep()\n",
        "\n",
        "    for s in x_sites:\n",
        "        qml.PauliX(Wire(*s))\n",
        "\n",
        "    for s in z_sites:\n",
        "        qml.PauliZ(Wire(*s))\n",
        "\n",
        "    return [qml.expval(op) for op in xgroup_ops + zgroup_ops]"
      ],
      "metadata": {
        "id": "DNdyVCnoN7ia"
      },
      "execution_count": null,
      "outputs": []
    },
    {
      "cell_type": "markdown",
      "source": [
        "What are the expectation values when we apply a single X operation? Two\n",
        "Z group measurements have indeed changed signs."
      ],
      "metadata": {
        "id": "hh5JWEaJqce_"
      }
    },
    {
      "cell_type": "code",
      "source": [
        "single_x = [(1, 2)]\n",
        "\n",
        "x_expvals, z_expvals = separate_expvals(excitations(single_x, []))\n",
        "\n",
        "print(\"XGroup: \", [np.round(val) for val in x_expvals])\n",
        "print(\"ZGroup: \", [np.round(val) for val in z_expvals])"
      ],
      "metadata": {
        "colab": {
          "base_uri": "https://localhost:8080/"
        },
        "id": "9Djzx1rxN9hf",
        "outputId": "cbc42768-78e8-4803-bce3-68659c3791e0"
      },
      "execution_count": null,
      "outputs": [
        {
          "output_type": "stream",
          "name": "stdout",
          "text": [
            "XGroup:  [1.0, 1.0, 1.0, 1.0, 1.0, 1.0, 1.0, 1.0, 1.0, 1.0, 1.0, 1.0]\n",
            "ZGroup:  [1.0, -1.0, -1.0, 1.0, 1.0, 1.0, 1.0, 1.0, 1.0, 1.0, 1.0, 1.0]\n"
          ]
        }
      ]
    },
    {
      "cell_type": "markdown",
      "source": [
        "Instead of interpreting the state via the expectation values of the\n",
        "operators, we can view the state as occupation numbers of the\n",
        "corresponding quasiparticles. A group with an expectation value of $+1$\n",
        "is in the ground state and thus has an occupation number of $0.$ If the\n",
        "expectation value is $-1,$ then a quasiparticle exists in that location.\n"
      ],
      "metadata": {
        "id": "4s8bkRljqhR7"
      }
    },
    {
      "cell_type": "code",
      "source": [
        "occupation_numbers = lambda expvals: [0.5 * (1 - np.round(val)) for val in expvals]\n",
        "\n",
        "def print_info(x_expvals, z_expvals):\n",
        "    E = -sum(x_expvals) - sum(z_expvals)\n",
        "\n",
        "    print(\"Total energy: \", E)\n",
        "    print(\"Energy above the ground state: \", E - E0)\n",
        "    print(\"X Group occupation numbers: \", occupation_numbers(x_expvals))\n",
        "    print(\"Z Group occupation numbers: \", occupation_numbers(z_expvals))\n",
        "\n",
        "print_info(x_expvals, z_expvals)"
      ],
      "metadata": {
        "colab": {
          "base_uri": "https://localhost:8080/"
        },
        "id": "wM_tIN3IOADG",
        "outputId": "aab3a358-75dc-48fc-a177-f4f385666ff3"
      },
      "execution_count": null,
      "outputs": [
        {
          "output_type": "stream",
          "name": "stdout",
          "text": [
            "Total energy:  -19.999999999999996\n",
            "Energy above the ground state:  4.0\n",
            "X Group occupation numbers:  [0.0, 0.0, 0.0, 0.0, 0.0, 0.0, 0.0, 0.0, 0.0, 0.0, 0.0, 0.0]\n",
            "Z Group occupation numbers:  [0.0, 1.0, 1.0, 0.0, 0.0, 0.0, 0.0, 0.0, 0.0, 0.0, 0.0, 0.0]\n"
          ]
        }
      ]
    },
    {
      "cell_type": "markdown",
      "source": [
        "Since we will plot the same thing many times, we group the following\n",
        "code into a function to easily call later."
      ],
      "metadata": {
        "id": "bTKTR_P5qorF"
      }
    },
    {
      "cell_type": "code",
      "source": [
        "def excitation_plot(x_excite, z_excite):\n",
        "    x_color = lambda expval: \"navy\" if expval < 0 else \"lavender\"\n",
        "    z_color = lambda expval: \"maroon\" if expval < 0 else \"mistyrose\"\n",
        "\n",
        "    fig, ax = plt.subplots()\n",
        "    fig, ax = misc_plot_formatting(fig, ax)\n",
        "\n",
        "    for expval, sites in zip(x_excite, xgroup_sites):\n",
        "        ax.add_patch(Polygon(sites, color=x_color(expval), zorder=0))\n",
        "\n",
        "    for expval, sites in zip(z_excite, zgroup_sites):\n",
        "        ax.add_patch(Polygon(sites, color=z_color(expval), zorder=0))\n",
        "\n",
        "    handles = [\n",
        "        Patch(color=\"navy\", label=\"X Group -1\"),\n",
        "        Patch(color=\"lavender\", label=\"X Group +1\"),\n",
        "        Patch(color=\"maroon\", label=\"Z Group -1\"),\n",
        "        Patch(color=\"mistyrose\", label=\"Z Group +1\"),\n",
        "        Patch(color=\"navy\", label=\"Z op\"),\n",
        "        Patch(color=\"maroon\", label=\"X op\"),\n",
        "    ]\n",
        "\n",
        "    plt.legend(handles=handles, ncol=3, loc=\"lower left\")\n",
        "\n",
        "    return fig, ax"
      ],
      "metadata": {
        "id": "vY1j2Zp_OCSM"
      },
      "execution_count": null,
      "outputs": []
    },
    {
      "cell_type": "markdown",
      "source": [
        "With this function, we can quickly view the expectation values and the\n",
        "location of the additional X operation. The operation changes the\n",
        "expectation values for the adjacent Z groups.\n"
      ],
      "metadata": {
        "id": "bZxiCaJAqzUt"
      }
    },
    {
      "cell_type": "code",
      "source": [
        "fig, ax = excitation_plot(x_expvals, z_expvals)\n",
        "ax.scatter(*zip(*single_x), color=\"maroon\", s=100)\n",
        "plt.show()"
      ],
      "metadata": {
        "colab": {
          "base_uri": "https://localhost:8080/",
          "height": 430
        },
        "id": "HPbf986kOEm4",
        "outputId": "474f4097-8dd4-4c4f-8e65-e5a6b33f7e83"
      },
      "execution_count": null,
      "outputs": [
        {
          "output_type": "display_data",
          "data": {
            "text/plain": [
              "<Figure size 640x480 with 1 Axes>"
            ],
            "image/png": "[encoded data removed]"
          },
          "metadata": {}
        }
      ]
    },
    {
      "cell_type": "markdown",
      "source": [
        "What if we apply a Z operation instead at the same site? We instead get\n",
        "two X Group excitations."
      ],
      "metadata": {
        "id": "z8dluaEGq4FL"
      }
    },
    {
      "cell_type": "code",
      "source": [
        "single_z = [(1, 2)]\n",
        "\n",
        "expvals = excitations([], single_z)\n",
        "x_expvals, z_expvals = separate_expvals(expvals)\n",
        "print_info(x_expvals, z_expvals)"
      ],
      "metadata": {
        "colab": {
          "base_uri": "https://localhost:8080/"
        },
        "id": "MpWotAE7OHQj",
        "outputId": "cc3f4cca-2da0-4514-912f-5818d5b85837"
      },
      "execution_count": null,
      "outputs": [
        {
          "output_type": "stream",
          "name": "stdout",
          "text": [
            "Total energy:  -19.999999999999996\n",
            "Energy above the ground state:  4.0\n",
            "X Group occupation numbers:  [0.0, 1.0, 1.0, 0.0, 0.0, 0.0, 0.0, 0.0, 0.0, 0.0, 0.0, 0.0]\n",
            "Z Group occupation numbers:  [0.0, 0.0, 0.0, 0.0, 0.0, 0.0, 0.0, 0.0, 0.0, 0.0, 0.0, 0.0]\n"
          ]
        }
      ]
    },
    {
      "cell_type": "code",
      "source": [
        "fig, ax = excitation_plot(x_expvals, z_expvals)\n",
        "ax.scatter(*zip(*single_z), color=\"navy\", s=100)\n",
        "plt.show()"
      ],
      "metadata": {
        "colab": {
          "base_uri": "https://localhost:8080/",
          "height": 430
        },
        "id": "y5RG01DjOJm4",
        "outputId": "c983dfc2-3606-4fb8-8dbc-51d6b9852f53"
      },
      "execution_count": null,
      "outputs": [
        {
          "output_type": "display_data",
          "data": {
            "text/plain": [
              "<Figure size 640x480 with 1 Axes>"
            ],
            "image/png": "[encoded data removed]"
          },
          "metadata": {}
        }
      ]
    },
    {
      "cell_type": "markdown",
      "source": [
        "What happens if we apply the same perturbation twice at one location? We\n",
        "regain the ground state.\n",
        "\n",
        "The excitations of the toric code are Majorana particles: particles that\n",
        "are their own antiparticles. While postulated to exist in standard\n",
        "particle physics, Majorana particles have only been experimentally seen\n",
        "as quasiparticle excitations in materials.\n",
        "\n",
        "We can think of the second operation as creating another set of\n",
        "excitations at the same location. This second pair then annihilates the\n",
        "existing particles.\n"
      ],
      "metadata": {
        "id": "P54bqEahrBHJ"
      }
    },
    {
      "cell_type": "code",
      "source": [
        "single_z = [(1, 2)]\n",
        "\n",
        "expvals = excitations([], single_z + single_z)\n",
        "x_expvals, z_expvals = separate_expvals(expvals)\n",
        "\n",
        "print_info(x_expvals, z_expvals)"
      ],
      "metadata": {
        "colab": {
          "base_uri": "https://localhost:8080/"
        },
        "id": "3GqSDCBoOLtx",
        "outputId": "f0fe0488-15da-46c0-dd54-284eb4e69631"
      },
      "execution_count": null,
      "outputs": [
        {
          "output_type": "stream",
          "name": "stdout",
          "text": [
            "Total energy:  -23.999999999999996\n",
            "Energy above the ground state:  0.0\n",
            "X Group occupation numbers:  [0.0, 0.0, 0.0, 0.0, 0.0, 0.0, 0.0, 0.0, 0.0, 0.0, 0.0, 0.0]\n",
            "Z Group occupation numbers:  [0.0, 0.0, 0.0, 0.0, 0.0, 0.0, 0.0, 0.0, 0.0, 0.0, 0.0, 0.0]\n"
          ]
        }
      ]
    },
    {
      "cell_type": "markdown",
      "source": [
        "# Moving Excitations and String Operators\n",
        "\n",
        "What if we create a second set of particles such that one of the new\n",
        "particles overlaps with an existing particle? One old and one new\n",
        "particle annihilate each other. One old and one new particle remain. We\n",
        "still have two particles in total.\n",
        "\n",
        "Alternatively, we can view the second operation as moving a single\n",
        "excitation.\n",
        "\n",
        "Let's see what that looks like in code:\n"
      ],
      "metadata": {
        "id": "jVWJGdwPrGud"
      }
    },
    {
      "cell_type": "code",
      "source": [
        "two_z = [(1, 2), (2, 2)]\n",
        "\n",
        "expvals = excitations([], two_z)\n",
        "x_expvals, z_expvals = separate_expvals(expvals)\n",
        "\n",
        "print_info(x_expvals, z_expvals)"
      ],
      "metadata": {
        "colab": {
          "base_uri": "https://localhost:8080/"
        },
        "id": "OJS3clEuOOGM",
        "outputId": "14efd36a-a98b-49e8-f0e2-e22e045dc84c"
      },
      "execution_count": null,
      "outputs": [
        {
          "output_type": "stream",
          "name": "stdout",
          "text": [
            "Total energy:  -19.999999999999996\n",
            "Energy above the ground state:  4.0\n",
            "X Group occupation numbers:  [0.0, 0.0, 1.0, 0.0, 0.0, 0.0, 1.0, 0.0, 0.0, 0.0, 0.0, 0.0]\n",
            "Z Group occupation numbers:  [0.0, 0.0, 0.0, 0.0, 0.0, 0.0, 0.0, 0.0, 0.0, 0.0, 0.0, 0.0]\n"
          ]
        }
      ]
    },
    {
      "cell_type": "code",
      "source": [
        "fig, ax = excitation_plot(x_expvals, z_expvals)\n",
        "ax.plot(*zip(*two_z), color=\"navy\", linewidth=10)\n",
        "plt.show()"
      ],
      "metadata": {
        "colab": {
          "base_uri": "https://localhost:8080/",
          "height": 430
        },
        "id": "HdFLaEaGOQlc",
        "outputId": "f0753bee-b8b4-4660-ec55-c02d143c780a"
      },
      "execution_count": null,
      "outputs": [
        {
          "output_type": "display_data",
          "data": {
            "text/plain": [
              "<Figure size 640x480 with 1 Axes>"
            ],
            "image/png": "[encoded data removed]"
          },
          "metadata": {}
        }
      ]
    },
    {
      "cell_type": "markdown",
      "source": [
        "In that example, we just moved an excitation a little. How about we try\n",
        "moving it even further?\n"
      ],
      "metadata": {
        "id": "aSNrJ18drLJz"
      }
    },
    {
      "cell_type": "code",
      "source": [
        "long_string = [(1, 2), (2, 2), (3, 2), (4, 1)]\n",
        "\n",
        "expvals = excitations([], long_string)\n",
        "x_expvals, z_expvals = separate_expvals(expvals)\n",
        "\n",
        "print_info(x_expvals, z_expvals)"
      ],
      "metadata": {
        "colab": {
          "base_uri": "https://localhost:8080/"
        },
        "id": "bDCH87qpOSyG",
        "outputId": "7724fa52-705d-4472-f5d7-2d1758184a6e"
      },
      "execution_count": null,
      "outputs": [
        {
          "output_type": "stream",
          "name": "stdout",
          "text": [
            "Total energy:  -19.999999999999996\n",
            "Energy above the ground state:  4.0\n",
            "X Group occupation numbers:  [0.0, 0.0, 1.0, 0.0, 0.0, 0.0, 0.0, 0.0, 1.0, 0.0, 0.0, 0.0]\n",
            "Z Group occupation numbers:  [0.0, 0.0, 0.0, 0.0, 0.0, 0.0, 0.0, 0.0, 0.0, 0.0, 0.0, 0.0]\n"
          ]
        }
      ]
    },
    {
      "cell_type": "code",
      "source": [
        "fig, ax = excitation_plot(x_expvals, z_expvals)\n",
        "ax.plot(*zip(*long_string), color=\"navy\", linewidth=10)\n",
        "plt.show()"
      ],
      "metadata": {
        "colab": {
          "base_uri": "https://localhost:8080/",
          "height": 430
        },
        "id": "SkJA0CMPOVBX",
        "outputId": "0bf72cb8-31a6-423e-c39b-48c0b30879d0"
      },
      "execution_count": null,
      "outputs": [
        {
          "output_type": "display_data",
          "data": {
            "text/plain": [
              "<Figure size 640x480 with 1 Axes>"
            ],
            "image/png": "[encoded data removed]"
          },
          "metadata": {}
        }
      ]
    },
    {
      "cell_type": "markdown",
      "source": [
        "We end up with strings of operations that connect pairs of\n",
        "quasiparticles.\n",
        "\n",
        "We can use a branch of topology called\n",
        "[Homotopy](https://en.wikipedia.org/wiki/Homotopy) to describe the\n",
        "relationship between these strings and the wave function. Two paths\n",
        "$s_1$ and $s_2$ are **homotopy equivalent** or **homotopic** if they can\n",
        "be continuously deformed into each other:\n",
        "\n",
        "$$s_1 \\sim s_2$$\n",
        "\n",
        "In the following picture, assume the red \"X\" is a defect in space, like\n",
        "a tear in a sheet. The two blue paths are equivalent because you can\n",
        "smoothly move one into the other. You cannot move the blue path into the\n",
        "green path without going through the defect, so they are not equivalent\n",
        "to each other.\n",
        "\n",
        "<figure>\n",
        "<img src=\"../_static/demonstration_assets/toric_code/homotopy.png\"\n",
        "class=\"align-center\" style=\"width:40.0%\"\n",
        "alt=\"../_static/demonstration_assets/toric_code/homotopy.png\" />\n",
        "<figcaption>Paths are homotopy equivalent if they can be smoothly\n",
        "deformed into each other.</figcaption>\n",
        "</figure>\n",
        "\n",
        "We can divide the set of all possible paths into **homotopy classes**. A\n",
        "homotopy class is an [equivalence\n",
        "class](https://en.wikipedia.org/wiki/Equivalence_class) under homotopy.\n",
        "Every member of the same homotopy class can be deformed into every other\n",
        "member of the same class, and members of different homotopy classes\n",
        "cannot be deformed into each other. All the homotopy classes for a given\n",
        "space $S$ form its [first homotopy\n",
        "group](https://en.wikipedia.org/wiki/Homotopy_group), denoted by\n",
        "$\\pi_1(S).$ The first homotopy group of a space is also called its\n",
        "*fundamental group*.\n",
        "\n",
        "How do these mathematical concepts apply to the toric code model? To\n",
        "find out, let\\'s look at a string of Z operations homotopic to the one\n",
        "above.\n",
        "\n",
        "This next string creates the same final state. Only the homotopy class\n",
        "of the path used to create the excitations influences the occupation\n",
        "numbers and total energy. If the endpoints are the same and the path\n",
        "doesn't wrap around the torus or other particles, the details do not\n",
        "impact any observables."
      ],
      "metadata": {
        "id": "4c7Uh3IKrP3U"
      }
    },
    {
      "cell_type": "code",
      "source": [
        "equivalent_string = [(1, 2), (2, 1), (3, 1), (4, 1)]\n",
        "\n",
        "expvals = excitations([], equivalent_string)\n",
        "x_expvals, z_expvals = separate_expvals(expvals)\n",
        "\n",
        "print_info(x_expvals, z_expvals)"
      ],
      "metadata": {
        "colab": {
          "base_uri": "https://localhost:8080/"
        },
        "id": "aUVnlPtcO4Jl",
        "outputId": "48120ed6-375c-4d09-c279-342a5679850b"
      },
      "execution_count": null,
      "outputs": [
        {
          "output_type": "stream",
          "name": "stdout",
          "text": [
            "Total energy:  -19.999999999999996\n",
            "Energy above the ground state:  4.0\n",
            "X Group occupation numbers:  [0.0, 0.0, 1.0, 0.0, 0.0, 0.0, 0.0, 0.0, 1.0, 0.0, 0.0, 0.0]\n",
            "Z Group occupation numbers:  [0.0, 0.0, 0.0, 0.0, 0.0, 0.0, 0.0, 0.0, 0.0, 0.0, 0.0, 0.0]\n"
          ]
        }
      ]
    },
    {
      "cell_type": "code",
      "source": [
        "fig, ax = excitation_plot(x_expvals, z_expvals)\n",
        "ax.plot(*zip(*equivalent_string), color=\"navy\", linewidth=10)\n",
        "plt.show()"
      ],
      "metadata": {
        "colab": {
          "base_uri": "https://localhost:8080/",
          "height": 430
        },
        "id": "sU1ujb5hPAJs",
        "outputId": "c54cb3fa-7917-46e6-b38a-7649a32679c5"
      },
      "execution_count": null,
      "outputs": [
        {
          "output_type": "display_data",
          "data": {
            "text/plain": [
              "<Figure size 640x480 with 1 Axes>"
            ],
            "image/png": "[encoded data removed]"
          },
          "metadata": {}
        }
      ]
    },
    {
      "cell_type": "markdown",
      "source": [
        "# Contractible loops\n",
        "\n",
        "We can also have a loop of operations that doesn't create any new\n",
        "excitations. The loop forms a pair, moves one around in a circle, and\n",
        "then annihilates the two particles again.\n"
      ],
      "metadata": {
        "id": "DP7c-TIbrV5f"
      }
    },
    {
      "cell_type": "code",
      "source": [
        "contractible_loop = [(1, 1), (2, 1), (3, 1), (4, 1), (4, 2), (3, 3), (2, 3), (1, 2)]\n",
        "\n",
        "expvals = excitations(contractible_loop, [])\n",
        "x_expvals, z_expvals = separate_expvals(expvals)\n",
        "print_info(x_expvals, z_expvals)"
      ],
      "metadata": {
        "colab": {
          "base_uri": "https://localhost:8080/"
        },
        "id": "xYeVaNxyPCIZ",
        "outputId": "c6ce31c7-e9e5-4a71-db8a-b985bf97f7d0"
      },
      "execution_count": null,
      "outputs": [
        {
          "output_type": "stream",
          "name": "stdout",
          "text": [
            "Total energy:  -23.999999999999996\n",
            "Energy above the ground state:  0.0\n",
            "X Group occupation numbers:  [0.0, 0.0, 0.0, 0.0, 0.0, 0.0, 0.0, 0.0, 0.0, 0.0, 0.0, 0.0]\n",
            "Z Group occupation numbers:  [0.0, 0.0, 0.0, 0.0, 0.0, 0.0, 0.0, 0.0, 0.0, 0.0, 0.0, 0.0]\n"
          ]
        }
      ]
    },
    {
      "cell_type": "code",
      "source": [
        "fig, ax = excitation_plot(x_expvals, z_expvals)\n",
        "\n",
        "ax.plot(*zip(*contractible_loop), color=\"maroon\", linewidth=10)\n",
        "\n",
        "plt.show()"
      ],
      "metadata": {
        "colab": {
          "base_uri": "https://localhost:8080/",
          "height": 430
        },
        "id": "6j6PzSSLPFY0",
        "outputId": "64f7de63-892b-479e-ea45-1ab4a73d5ab1"
      },
      "execution_count": null,
      "outputs": [
        {
          "output_type": "display_data",
          "data": {
            "text/plain": [
              "<Figure size 640x480 with 1 Axes>"
            ],
            "image/png": "[encoded data removed]"
          },
          "metadata": {}
        }
      ]
    },
    {
      "cell_type": "markdown",
      "source": [
        "The loop doesn't affect the positions of any excitations, but does it\n",
        "affect the state at all?\n",
        "\n",
        "We will look at the probabilities instead of the expectation values to\n",
        "answer that question.\n"
      ],
      "metadata": {
        "id": "o1lf-Vrirbp2"
      }
    },
    {
      "cell_type": "code",
      "source": [
        "@qml.qnode(dev, diff_method=None)\n",
        "def probs(x_sites, z_sites):\n",
        "    state_prep()\n",
        "\n",
        "    for s in x_sites:\n",
        "        qml.PauliX(Wire(*s))\n",
        "\n",
        "    for s in z_sites:\n",
        "        qml.PauliZ(Wire(*s))\n",
        "\n",
        "    return qml.probs(wires=[Wire(*s) for s in all_sites])\n",
        "\n",
        "\n",
        "null_probs = probs([], [])\n",
        "contractible_probs = probs(contractible_loop, [])\n",
        "\n",
        "print(\"Are the probabilities equal? \", np.allclose(null_probs, contractible_probs))"
      ],
      "metadata": {
        "colab": {
          "base_uri": "https://localhost:8080/"
        },
        "id": "Bz1zBYVLPHx6",
        "outputId": "3221fb4d-2270-40e8-cd7a-2244b7710148"
      },
      "execution_count": null,
      "outputs": [
        {
          "output_type": "stream",
          "name": "stdout",
          "text": [
            "Are the probabilities equal?  True\n"
          ]
        }
      ]
    },
    {
      "cell_type": "markdown",
      "source": [
        "The toric code\\'s dependence on the homotopy of the path explains this\n",
        "result. All paths we can smoothly deform into each other will give the\n",
        "same result. The contractible loop can be smoothly deformed to nothing,\n",
        "so the state with the contractible loop is the same as the state with no\n",
        "loop, our initial $|G\\rangle.$\n",
        "\n",
        "\n",
        "# Looping the torus\n",
        "\n",
        "On the torus, we have four types of unique paths:\n",
        "\n",
        "-   The trivial path that contracts to nothing\n",
        "-   A horizontal loop around the boundaries\n",
        "-   A vertical loop around the boundaries\n",
        "-   A loop around both the horizontal and vertical boundaries\n",
        "\n",
        "<figure>\n",
        "<img src=\"../_static/demonstration_assets/toric_code/types_of_loops.png\"\n",
        "class=\"align-center\" style=\"width:50.0%\"\n",
        "alt=\"../_static/demonstration_assets/toric_code/types_of_loops.png\" />\n",
        "<figcaption>The homotopy group of a torus can be generated by a\n",
        "horizontal loop and a vertical loop around the boundaries.</figcaption>\n",
        "</figure>\n",
        "\n",
        "Each of these paths represents a member of the first homotopy group of\n",
        "the torus: $\\pi_1(T) = \\mathbb{Z}^2$ modulo 2.\n",
        "\n",
        "None of these loops of X operations create net excitations, so the wave\n",
        "function remains in the ground state."
      ],
      "metadata": {
        "id": "bm4Mhpr7rmLS"
      }
    },
    {
      "cell_type": "code",
      "source": [
        "horizontal_loop = [(i, 1) for i in range(width)]\n",
        "vertical_loop = [(1, i) for i in range(height)]\n",
        "\n",
        "expvals = excitations(horizontal_loop + vertical_loop, [])\n",
        "fig, ax = excitation_plot(*separate_expvals(expvals))\n",
        "\n",
        "ax.plot(*zip(*horizontal_loop), color=\"maroon\", linewidth=10)\n",
        "ax.plot(*zip(*vertical_loop), color=\"maroon\", linewidth=10)\n",
        "\n",
        "plt.show()"
      ],
      "metadata": {
        "colab": {
          "base_uri": "https://localhost:8080/",
          "height": 430
        },
        "id": "P9-UbqyaPKXk",
        "outputId": "b7eafeef-07dd-43fb-96ff-d670b577fa33"
      },
      "execution_count": null,
      "outputs": [
        {
          "output_type": "display_data",
          "data": {
            "text/plain": [
              "<Figure size 640x480 with 1 Axes>"
            ],
            "image/png": "[encoded data removed]"
          },
          "metadata": {}
        }
      ]
    },
    {
      "cell_type": "markdown",
      "source": [
        "We can compute the probabilities for each of these four types of loops:\n"
      ],
      "metadata": {
        "id": "nZHUzQtZrv5h"
      }
    },
    {
      "cell_type": "code",
      "source": [
        "null_probs = probs([], [])\n",
        "horizontal_probs = probs(horizontal_loop, [])\n",
        "vertical_probs = probs(vertical_loop, [])\n",
        "combo_probs = probs(horizontal_loop + vertical_loop, [])"
      ],
      "metadata": {
        "id": "qzoh90ViPN46"
      },
      "execution_count": null,
      "outputs": []
    },
    {
      "cell_type": "markdown",
      "source": [
        "While X and Z operations can change the group operator expectation\n",
        "values and create quasiparticles, only X operators can change the\n",
        "probability distribution. Applying a Z operator would only rotate the\n",
        "phase of the state and not change any amplitudes. Hence we only use\n",
        "loops of X operators in this section. I encourage you to try this\n",
        "analysis with loops of Z operators to confirm that they do not change\n",
        "the probability distribution.\n",
        "\n",
        "We can compare the original state and one with a horizontal loop to see\n",
        "if the probability distributions are different:\n"
      ],
      "metadata": {
        "id": "FQlilHUYr2QC"
      }
    },
    {
      "cell_type": "code",
      "source": [
        "print(\"Are the probabilities equal? \", qml.math.allclose(null_probs, horizontal_probs))\n",
        "print(\"Is this significant?\")\n",
        "print(\"Maximum difference in probabilities: \", max(abs(null_probs - horizontal_probs)))\n",
        "print(\"Maximum probability: \", max(null_probs))"
      ],
      "metadata": {
        "colab": {
          "base_uri": "https://localhost:8080/"
        },
        "id": "xsscSkCRPQRu",
        "outputId": "b4ceb174-de32-4286-c100-035fc6103604"
      },
      "execution_count": null,
      "outputs": [
        {
          "output_type": "stream",
          "name": "stdout",
          "text": [
            "Are the probabilities equal?  False\n",
            "Is this significant?\n",
            "Maximum difference in probabilities:  0.00048828124999999913\n",
            "Maximum probability:  0.00048828124999999913\n"
          ]
        }
      ]
    },
    {
      "cell_type": "markdown",
      "source": [
        "These numbers seem small, but remember we have 24 qubits, and thus\n",
        "$2^{24}=16777216$ probability components. Since the maximum difference\n",
        "in probabilities is the same size as the maximum probability, we know\n",
        "this isn't just random fluctuations and errors. The states are\n",
        "different, but the energies are the same, so they are *degenerate*.\n",
        "\n",
        "That compared a horizontal \"x\" loop with the initial ground state. How\n",
        "about the other two types of loops? Let's iterate over all combinations\n",
        "of two probability distributions to see if any match.\n"
      ],
      "metadata": {
        "id": "LbH4YMVPr7HU"
      }
    },
    {
      "cell_type": "code",
      "source": [
        "probs_type_labels = [\"null\", \"x\", \"y\", \"combo\"]\n",
        "all_probs = [null_probs, horizontal_probs, vertical_probs, combo_probs]\n",
        "\n",
        "print(\"\\t\" + \"\\t\".join(probs_type_labels))\n",
        "\n",
        "for name, probs1 in zip(probs_type_labels, all_probs):\n",
        "    comparisons = (str(np.allclose(probs1, probs2)) for probs2 in all_probs)\n",
        "    print(name, \"\\t\", \"\\t\".join(comparisons))"
      ],
      "metadata": {
        "colab": {
          "base_uri": "https://localhost:8080/"
        },
        "id": "5StXz9ovPSQN",
        "outputId": "71a8acdf-9e11-4e1d-a378-a8d3f7c511f6"
      },
      "execution_count": null,
      "outputs": [
        {
          "output_type": "stream",
          "name": "stdout",
          "text": [
            "\tnull\tx\ty\tcombo\n",
            "null \t True\tFalse\tFalse\tFalse\n",
            "x \t False\tTrue\tFalse\tFalse\n",
            "y \t False\tFalse\tTrue\tFalse\n",
            "combo \t False\tFalse\tFalse\tTrue\n"
          ]
        }
      ]
    },
    {
      "cell_type": "markdown",
      "source": [
        "This table shows the model has four distinct ground states. More\n",
        "importantly, these ground states are separated from each other by\n",
        "long-range operations. We must perform a loop of operations across the\n",
        "entire lattice to switch between degenerate ground states.\n",
        "\n",
        "This four-way degeneracy is the source of the error correction in the\n",
        "toric code. Instead of 24 qubits, we work with two logical qubits (4\n",
        "states) that are well separated from each other by topological\n",
        "operations.\n",
        "\n",
        "\n",
        "\n",
        "I encourage dedicated readers to explore what happens when a path loops\n",
        "the same boundaries twice.\n",
        "\n",
        "\n",
        "In this section, we\\'ve seen that the space of ground states is directly\n",
        "related to the first homotopy group of the lattice. The first homotopy\n",
        "group of a torus is $\\pi_1(T) = \\mathbb{Z}^2,$ and the space of ground\n",
        "states is that group modulo two, $\\mathbb{Z}_2^2.$\n",
        "\n",
        "What if we defined the model on a differently shaped lattice? Then the\n",
        "space of the ground state would change to reflect the first homotopy\n",
        "group of that space. For example, if the model was defined on a sphere,\n",
        "then only a single unique ground state would exist. Adding defects like\n",
        "missing sites to the lattice also changes the topology. Error correction\n",
        "with the toric code often uses missing sites to add additional logical\n",
        "qubits.\n"
      ],
      "metadata": {
        "id": "rEZ5QIYksB63"
      }
    },
    {
      "cell_type": "markdown",
      "source": [
        "# Mutual and Exchange Statistics\n",
        "\n",
        "The hole in the center of the donut isn't the only thing that prevents\n",
        "paths from smoothly deforming into each other. We don't yet know if we\n",
        "can distort paths past other particles.\n",
        "\n",
        "When one indistinguishable fermion of spin 1/2 orbits another fermion of\n",
        "the same type, the combined wave function picks up a relative phase of\n",
        "negative one. When fermions of different types orbit each other, the\n",
        "state is unchanged. For example, if an electron goes around a proton and\n",
        "returns to the same spot, the wave function is unchanged. If a boson\n",
        "orbits around a different type of boson, again, the wave function is\n",
        "unchanged.\n",
        "\n",
        "What if a particle went around a different type of particle and\n",
        "everything picked up a phase? Would it be a boson or a fermion?\n",
        "\n",
        "It would be something else entirely: an anyon. An anyon is anything that\n",
        "doesn't cleanly fall into the boson/fermion categorization of particles.\n",
        "\n",
        "While the toric code is just an extremely useful mathematical model,\n",
        "anyons exist in physical materials. For example, fractional quantum Hall\n",
        "systems have anyonic particles with spin $1/q$ for different integers\n",
        "$q.$\n",
        "\n",
        "The **statistics** are described by the phase accumulated by moving one\n",
        "particle around another. For example, if the particle picks up phases\n",
        "like a fermion, then it obeys [Fermi-Dirac\n",
        "statistics](https://en.wikipedia.org/wiki/Fermi–Dirac_statistics).\n",
        "**Exchange statistics** are described by the phases that accumulate from\n",
        "exchanging the *same* type of particles. **Mutual** statistics are\n",
        "characterized by the phase acquired by moving one particle around a\n",
        "particle of a *different* type.\n",
        "\n",
        "To measure the mutual statistics of a Z Group excitation and an X group\n",
        "excitation, we need to prepare at least one of each type of particle and\n",
        "then orbit one around the other.\n",
        "\n",
        "The following code rotates an X Group excitation around a Z Group\n",
        "excitation.\n"
      ],
      "metadata": {
        "id": "KKBJ2Sm2sIGH"
      }
    },
    {
      "cell_type": "code",
      "source": [
        "prep1 = [(1, 1), (2, 1)]\n",
        "prep2 = [(1, 3)]\n",
        "loop1 = [(2, 3), (2, 2), (2, 1), (3, 1), (3, 2), (2, 3)]\n",
        "\n",
        "expvals = excitations(prep1, prep2 + loop1)\n",
        "x_expvals, z_expvals = separate_expvals(expvals)\n",
        "\n",
        "fig, ax = excitation_plot(x_expvals, z_expvals)\n",
        "\n",
        "ax.plot(*zip(*prep1), color=\"maroon\", linewidth=10)\n",
        "ax.plot(*zip(*(prep2 + loop1)), color=\"navy\", linewidth=10)\n",
        "\n",
        "plt.show()"
      ],
      "metadata": {
        "colab": {
          "base_uri": "https://localhost:8080/",
          "height": 430
        },
        "id": "Ftmns5HXPUP8",
        "outputId": "7cf80575-e93b-497f-acf4-872f11983882"
      },
      "execution_count": null,
      "outputs": [
        {
          "output_type": "display_data",
          "data": {
            "text/plain": [
              "<Figure size 640x480 with 1 Axes>"
            ],
            "image/png": "[encoded data removed]"
          },
          "metadata": {}
        }
      ]
    },
    {
      "cell_type": "markdown",
      "source": [
        "While we managed to loop one particle around the other, we did not\n",
        "extract the relative phase applied to the wave function. To procure this\n",
        "information, we will need the *Hadamard test*.\n",
        "\n",
        "\n",
        "# Hadamard test\n",
        "\n",
        "The [Hadamard\n",
        "test](https://en.wikipedia.org/wiki/Hadamard_test_(quantum_computation))\n",
        "extracts the real component of a unitary operation\n",
        "$\\text{Re}\\left(\\langle \\psi | U | \\psi \\rangle \\right).$ If the unitary\n",
        "operation just applies a phase\n",
        "$U |\\psi\\rangle = e^{i \\phi} |\\psi \\rangle,$ the measured quantity\n",
        "reduces to $\\cos (\\phi).$\n",
        "\n",
        "The steps in the Hadamard test are:\n",
        "\n",
        "1.  Prepare the auxiliary qubit into a superposition with a Hadamard\n",
        "    gate\n",
        "2.  Apply a controlled version of the operation with the auxiliary qubit\n",
        "    as the control\n",
        "3.  Apply another Hadamard gate to the auxiliary qubit\n",
        "4.  Measure the auxiliary qubit in the Z-basis\n",
        "\n",
        "![](../_static/demonstration_assets/toric_code/Hadamard_test.png){.align-center\n",
        "width=\"50.0%\"}\n",
        "\n",
        "\n",
        "For extra understanding, validate the Hadamard test algorithm using pen\n",
        "and paper.\n",
        ":::\n",
        "\n",
        "Below we implement this algorithm in PennyLane and measure the mutual\n",
        "exchange statistics of an X Group excitation and a Z Group excitation.\n"
      ],
      "metadata": {
        "id": "LVRRXbFcsUfZ"
      }
    },
    {
      "cell_type": "code",
      "source": [
        "dev_aux = qml.device(\"lightning.qubit\", wires=[Wire(*s) for s in all_sites] + [\"aux\"])\n",
        "\n",
        "def loop(x_loop, z_loop):\n",
        "    for s in x_loop:\n",
        "        qml.PauliX(Wire(*s))\n",
        "    for s in z_loop:\n",
        "        qml.PauliZ(Wire(*s))\n",
        "\n",
        "@qml.qnode(dev_aux, diff_method=None)\n",
        "def hadamard_test(x_prep, z_prep, x_loop, z_loop):\n",
        "    state_prep()\n",
        "\n",
        "    for s in x_prep:\n",
        "        qml.PauliX(Wire(*s))\n",
        "\n",
        "    for s in z_prep:\n",
        "        qml.PauliZ(Wire(*s))\n",
        "\n",
        "    qml.Hadamard(\"aux\")\n",
        "    qml.ctrl(loop, control=\"aux\")(x_loop, z_loop)\n",
        "    qml.Hadamard(\"aux\")\n",
        "    return qml.expval(qml.PauliZ(\"aux\"))\n",
        "\n",
        "x_around_z = hadamard_test(prep1, prep2, [], loop1)\n",
        "print(\"Move x excitation around z excitation: \", x_around_z)"
      ],
      "metadata": {
        "colab": {
          "base_uri": "https://localhost:8080/"
        },
        "id": "hSIO_G8wPZK3",
        "outputId": "38aa3308-f787-4eb5-d68f-371566ff8d10"
      },
      "execution_count": null,
      "outputs": [
        {
          "output_type": "stream",
          "name": "stdout",
          "text": [
            "Move x excitation around z excitation:  -0.9999999999999991\n"
          ]
        }
      ]
    },
    {
      "cell_type": "markdown",
      "source": [
        "We just moved two different types of particles around each other and\n",
        "picked up a phase. As neither bosons nor fermions behave like this, this\n",
        "result demonstrates that the excitations of a toric code are anyons.\n",
        "\n",
        "::: note\n",
        "::: title\n",
        "Note\n",
        ":::\n",
        "\n",
        "I encourage dedicated readers to calculate the phase accumulated by\n",
        "exchanging:\n",
        "\n",
        "-   A Z Group excitation and a Z Group Excitation\n",
        "-   An X Group excitation and an X Group Excitation\n",
        "-   A combination $\\Psi$ particle and an X Group excitation\n",
        "-   A combination $\\Psi$ particle and a Z Group excitation\n",
        "-   A combination $\\Psi$ particle with another $\\Psi$ particle\n",
        "\n",
        "The combination particle should behave like a standard fermion. You can\n",
        "create and move combination particles by applying `PauliY` operations.\n",
        ":::\n",
        "\n",
        "In this demo, we have demonstrated:\n",
        "\n",
        "1.  How to prepare the ground state of the toric code model on a lattice\n",
        "    of qubits\n",
        "2.  How to create and move excitations\n",
        "3.  The ground state degeneracy of the model on a toric lattice, arising\n",
        "    from homotopically distinct loops of operations\n",
        "4.  The excitations are anyons due to non-trivial mutual statistics Make\n",
        "    sure to go and modify the code as suggested if you wish to gain more\n",
        "    intuition.\n"
      ],
      "metadata": {
        "id": "fVJo_0HmsbLG"
      }
    }
  ]
}